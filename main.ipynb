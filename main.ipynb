{
 "cells": [
  {
   "cell_type": "code",
   "execution_count": 2,
   "metadata": {},
   "outputs": [],
   "source": [
    "import json\n",
    "import requests\n",
    "from newspaper import Article"
   ]
  },
  {
   "cell_type": "code",
   "execution_count": 3,
   "metadata": {},
   "outputs": [
    {
     "name": "stdout",
     "output_type": "stream",
     "text": [
      "Title: Senior citizens' knowledge and experience to be utilized: PM Dahal\n",
      "Text: KATHMANDU, DECEMBER 27\n",
      "\n",
      "Prime Minister Pushpa Kamal Dahal 'Prachanda' asserted that the incumbent government was effortful to create an enabling environment by utilizing the wealth of knowledge, skills, experience and wisdom of the senior citizens that could be guidelines for running the State affairs.\n",
      "\n",
      "PM Dahal, in a message of best wishes on the third National Senior Citizens Day today, shared that the government has created a system wherein the moral ideals of the senior citizens could be handed over to the new generation.\n",
      "\n",
      "Furthermore, Dahal shared that the government has acknowledged the society and nation as the continuation of the good cultures and as the inspiration of society-relative development.\n",
      "\n",
      "According to PM Dahal, the State was working towards addressing the issues concerning the senior citizens so that they could live a dignified, healthy and happy life.\n",
      "\n",
      "The Head of the Government spoke of the need for all the State mechanisms to be sensitive towards tackling the challenges mounting in management of the senior citizens' population given the changes in the demographic structure of the country.\n",
      "\n",
      "The PM, in the message, further said that the government was consistently working towards creating an environment where senior citizens would receive continuous support and assistance from their families and communities.\n",
      "\n",
      "Stating that the government was also striving to provide proper care to single and helpless senior citizens, PM Dahal viewed that facilities, concessions and priorities in public services such as social security allowance, senior citizens health insurance, senior citizens shelters, daycare centres have been effective.\n",
      "\n",
      "\"I would like to assure you that such programmes targeted to the senior citizens would be expanded and further improved in the coming days,\" assured the septuagenarian leader.\n",
      "\n",
      "The slogan for the third National Senior Citizens Day is 'Respect for Senior Citizens, Recognition of Our Civilizations.' It may be noted that the National Senior Citizens Day is marked on the 11th day of the Nepali month of Poush\n",
      "\n",
      "every year in commemoration of the day wherein the State started distributing social security allowance to the senior citizens.\n",
      "\n",
      "The erstwhile government implemented social security allowance to the senior citizens on this day in 2051 BS (December 26, 1994).\n",
      "\n",
      "The PM, on the occasion, expressed that may this day inspire one and all to fulfill the national responsibility of integrating the efforts of the families, societies and country to ensure rights to the senior citizens and guarantee self-dignity for them.\n",
      "\n",
      "Prime Minister Dahal extended his best wishes to all the senior citizens who dedicated the important life time for the greater good of society and country.\n"
     ]
    }
   ],
   "source": [
    "headers = {\n",
    "    'User-Agent': 'Mozilla/5.0 (Windows NT 10.0; Win64; x64) AppleWebKit/537.36 (KHTML, like Gecko) Chrome/89.0.4389.82 Safari/537.36'\n",
    "}\n",
    "\n",
    "article_url = \"https://thehimalayantimes.com/kathmandu/senior-citizens-knowledge-and-experience-to-be-utilized-pm-dahal\"\n",
    "\n",
    "session = requests.Session()\n",
    "\n",
    "try:\n",
    "    response = session.get(headers=headers, url=article_url, timeout=10)\n",
    "\n",
    "    if response.status_code == 200:\n",
    "        article = Article(article_url)\n",
    "        article.download()\n",
    "        article.parse()\n",
    "\n",
    "        print(f\"Title: {article.title}\")\n",
    "        print(f\"Text: {article.text}\")\n",
    "    \n",
    "    else:\n",
    "        print(f\"Failed to fetch article at {article_url}\")\n",
    "\n",
    "except Exception as e:\n",
    "    print(e)"
   ]
  },
  {
   "cell_type": "code",
   "execution_count": 3,
   "metadata": {},
   "outputs": [
    {
     "data": {
      "text/plain": [
       "'https://thehimalayantimes.com/thehimalayantimes/uploads/images/2023/12/27/29062.jpg'"
      ]
     },
     "execution_count": 3,
     "metadata": {},
     "output_type": "execute_result"
    }
   ],
   "source": [
    "article.top_image"
   ]
  },
  {
   "cell_type": "code",
   "execution_count": 7,
   "metadata": {},
   "outputs": [],
   "source": [
    "from langchain_core.messages import HumanMessage\n",
    "\n",
    "article_title = article.title\n",
    "article_text = article.text\n",
    "\n",
    "#preparing template for the prompt\n",
    "template = \"\"\"Act as if you are a very good assistant that summarizes online article in a simple and easy language. Here is the article that you have to summarize:\n",
    "=====================\n",
    "Title: {article_title}\n",
    "\n",
    "Text: {article_text}\n",
    "=====================\n",
    "\n",
    "Summarize the given article in bullet points.\n",
    "\"\"\"\n",
    "\n",
    "# prompt = PromptTemplate(input_variables=['article_title', 'article_text'], template=template)\n",
    "prompt = template.format(article_title=article.title, article_text=article.text)\n",
    "\n",
    "\n",
    "messages = HumanMessage(content=[\n",
    "    {\n",
    "        'type': 'text',\n",
    "        'text': prompt,\n",
    "    }\n",
    "])"
   ]
  },
  {
   "cell_type": "code",
   "execution_count": 8,
   "metadata": {},
   "outputs": [
    {
     "name": "stdout",
     "output_type": "stream",
     "text": [
      "- Prime Minister Pushpa Kamal Dahal 'Prachanda' stated that the government was working to create an environment that utilizes the knowledge, skills, and experience of senior citizens.\n",
      "- The government aims to create a system where senior citizens can pass on their moral ideals to the younger generation.\n",
      "- The government acknowledges the importance of good culture and its role in societal development.\n",
      "- PM Dahal emphasized the need to address issues facing senior citizens and ensure they live dignified, healthy, and happy lives.\n",
      "- The government is working to address the challenges of managing the growing population of senior citizens due to demographic changes.\n",
      "- The government is committed to providing continuous support and assistance to senior citizens from their families and communities.\n",
      "- The government is striving to provide proper care for single and helpless senior citizens through facilities, concessions, and priorities in public services.\n",
      "- PM Dahal assured that such programs targeting senior citizens would be expanded and improved in the future.\n",
      "- The slogan for the third National Senior Citizens Day is \"Respect for Senior Citizens, Recognition of Our Civilizations.\"\n",
      "- The National Senior Citizens Day is marked annually on the 11th day of the Nepali month of Poush to commemorate the start of social security allowance distribution to senior citizens.\n",
      "- The PM expressed hope that this day would inspire efforts to integrate the roles of families, societies, and the country to ensure the rights and self-dignity of senior citizens.\n",
      "- Prime Minister Dahal extended his best wishes to all senior citizens who have contributed to society and country.\n"
     ]
    }
   ],
   "source": [
    "from langchain_google_genai import ChatGoogleGenerativeAI\n",
    "\n",
    "llm = ChatGoogleGenerativeAI(model=\"gemini-pro\")\n",
    "response = llm.invoke([messages])\n",
    "\n",
    "print(response.content)"
   ]
  }
 ],
 "metadata": {
  "kernelspec": {
   "display_name": "summarizer",
   "language": "python",
   "name": "python3"
  },
  "language_info": {
   "codemirror_mode": {
    "name": "ipython",
    "version": 3
   },
   "file_extension": ".py",
   "mimetype": "text/x-python",
   "name": "python",
   "nbconvert_exporter": "python",
   "pygments_lexer": "ipython3",
   "version": "3.10.0"
  }
 },
 "nbformat": 4,
 "nbformat_minor": 2
}
